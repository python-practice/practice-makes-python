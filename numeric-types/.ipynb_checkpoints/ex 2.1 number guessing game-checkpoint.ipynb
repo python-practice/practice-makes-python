{
 "cells": [
  {
   "cell_type": "markdown",
   "metadata": {},
   "source": [
    "Write a program that chooses a random integer between 0 and 99 (inclu-\n",
    "sive). Then ask the user to guess what number has been chosen. Each time the user enters a guess, the program indicates whether the user guessed correctly (and exits), or if the guess was too high or too low.\n",
    "If you didn’t already know this, then you can tell Python to choose a random integer in any range with the randint function in the random module. Thus, you can say:"
   ]
  },
  {
   "cell_type": "code",
   "execution_count": null,
   "metadata": {
    "collapsed": true
   },
   "outputs": [],
   "source": [
    "import random\n",
    "number = random.randint(10, 30)"
   ]
  },
  {
   "cell_type": "code",
   "execution_count": null,
   "metadata": {
    "collapsed": true
   },
   "outputs": [],
   "source": [
    "and number will contain an integer from 10 to (but not including) 30."
   ]
  },
  {
   "cell_type": "code",
   "execution_count": 1,
   "metadata": {
    "collapsed": false
   },
   "outputs": [
    {
     "name": "stdout",
     "output_type": "stream",
     "text": [
      "Try to guess a number between 0 and 99:33\n",
      "Nope! Try a larger number!66\n",
      "Nope! Try a larger number!83\n",
      "Too much! Try a smaller number!74\n",
      "Too much! Try a smaller number!70\n",
      "Too much! Try a smaller number!68\n",
      "Too much! Try a smaller number!67\n",
      "Bingo!\n"
     ]
    }
   ],
   "source": [
    "import random\n",
    "\n",
    "def guess_number():\n",
    "    min = 0\n",
    "    max = 99\n",
    "    \n",
    "    answer = random.randint(min, max)\n",
    "    \n",
    "    ok = False\n",
    "    \n",
    "    prompt = \"Try to guess a number between {0} and {1}:\".format(min, max)\n",
    "    \n",
    "    while not ok:\n",
    "        \n",
    "        try:\n",
    "            guess = int(raw_input(prompt))\n",
    "            if guess == answer:\n",
    "                ok = True\n",
    "                print \"Bingo!\"\n",
    "                break\n",
    "            elif guess > answer:\n",
    "                prompt = \"Too much! Try a smaller number!\"\n",
    "            else:\n",
    "                prompt = \"Nope! Try a larger number!\"\n",
    "                \n",
    "        except Exception as ex:\n",
    "            prompt = \"Apparently, it's not an integer number. Try once more.\"\n",
    "\n",
    "guess_number()\n",
    "    \n",
    "    "
   ]
  },
  {
   "cell_type": "code",
   "execution_count": null,
   "metadata": {
    "collapsed": true
   },
   "outputs": [],
   "source": []
  }
 ],
 "metadata": {
  "kernelspec": {
   "display_name": "Python 2",
   "language": "python",
   "name": "python2"
  },
  "language_info": {
   "codemirror_mode": {
    "name": "ipython",
    "version": 2
   },
   "file_extension": ".py",
   "mimetype": "text/x-python",
   "name": "python",
   "nbconvert_exporter": "python",
   "pygments_lexer": "ipython2",
   "version": "2.7.9"
  }
 },
 "nbformat": 4,
 "nbformat_minor": 0
}
