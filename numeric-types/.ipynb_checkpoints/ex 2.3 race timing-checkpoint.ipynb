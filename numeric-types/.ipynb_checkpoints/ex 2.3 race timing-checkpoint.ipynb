{
 "cells": [
  {
   "cell_type": "markdown",
   "metadata": {},
   "source": [
    "**Race timing:** Exercise 2.3\n",
    "\n",
    "Each day, you run 10 km, and want to know how long, on average, that run\n",
    "takes. Write a program that asks the user how long it took to run 10 km today. The programs continues to ask how long (in minutes) it took, until the user presses Enter. At that point, the program exits—but only after calculating and displaying the average time that the 10 km run took.\n",
    "\n",
    "For example, here is what the program would look like if the user enters three data points:"
   ]
  },
  {
   "cell_type": "markdown",
   "metadata": {},
   "source": [
    "```\n",
    "Enter 10 km run time: 15\n",
    "Enter 10 km run time: 20\n",
    "Enter 10 km run time: 10\n",
    "Enter 10 km run time:\n",
    "Average of 15.0, over 3 races\n",
    "```"
   ]
  },
  {
   "cell_type": "markdown",
   "metadata": {},
   "source": [
    "Note that the numeric inputs and outputs should all be floating-point values. We know that floats aren’t accurate enough for serious measures, but I don’t think that anyone’s exercise regime will hit a fatal snag just because they got a wrongly nonterminating decimal."
   ]
  },
  {
   "cell_type": "code",
   "execution_count": 9,
   "metadata": {
    "collapsed": false
   },
   "outputs": [
    {
     "name": "stdout",
     "output_type": "stream",
     "text": [
      "Enter 10 km run time: \n",
      "Thank you!\n",
      "Cannot calculate, data is empty\n"
     ]
    }
   ],
   "source": [
    "def mean(seq):\n",
    "    return float(sum(seq)) / len(seq)\n",
    "    \n",
    "def calc_mean_pace():\n",
    "    prompt = \"Enter 10 km run time: \"\n",
    "    \n",
    "    data = []\n",
    "    \n",
    "    count = 0\n",
    "    while count < 5:\n",
    "        count += 1\n",
    "        try:\n",
    "        \n",
    "            value = raw_input(prompt)\n",
    "        \n",
    "            if not value:\n",
    "                print \"Thank you!\"\n",
    "                break\n",
    "            \n",
    "            data.append(float(value))\n",
    "        except Exception as ex:\n",
    "            print \"Apparently it was not a number\"\n",
    "    \n",
    "    if data:\n",
    "        msg = \"Average of {0}, over {1} races\".format(mean(data), len(data))\n",
    "    else:\n",
    "        msg = \"Cannot calculate, data is empty\"\n",
    "        \n",
    "    print msg\n",
    "\n",
    "calc_mean_pace()"
   ]
  },
  {
   "cell_type": "code",
   "execution_count": null,
   "metadata": {
    "collapsed": true
   },
   "outputs": [],
   "source": []
  }
 ],
 "metadata": {
  "kernelspec": {
   "display_name": "Python 2",
   "language": "python",
   "name": "python2"
  },
  "language_info": {
   "codemirror_mode": {
    "name": "ipython",
    "version": 2
   },
   "file_extension": ".py",
   "mimetype": "text/x-python",
   "name": "python",
   "nbconvert_exporter": "python",
   "pygments_lexer": "ipython2",
   "version": "2.7.9"
  }
 },
 "nbformat": 4,
 "nbformat_minor": 0
}
