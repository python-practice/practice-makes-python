{
 "cells": [
  {
   "cell_type": "markdown",
   "metadata": {},
   "source": [
    "**Hexadecimal output:** Exercise 2.4\n",
    "\n",
    "Hexadecimal numbers are fairly common in the world of computers. Actually, that’s not entirely true: some programmers use them all of the time. Other programmers, typically using high-level languages and doing things such as Web development, barely ever remember how to use them.\n",
    "\n",
    "Now, the fact is that I barely use hexadecimal numbers in my day-to-day work. And even if I were to need them, I could use Python’s built-in hex function and 0x prefix. The former takes an integer and returns a hex string; the latter allows me to enter a number using hexadecimal notation, which can be more convenient. Thus, 0x50 is 80, and hex(80) will return the string 0x50.\n",
    "\n",
    "For this exercise, you need to write a program that takes a hex number and returns the decimal equivalent. That is, if the user enters 50, then we will assume that it is a hex number (equal to 0x50), and will print the value 80 on the screen."
   ]
  },
  {
   "cell_type": "code",
   "execution_count": 6,
   "metadata": {
    "collapsed": true
   },
   "outputs": [],
   "source": [
    "conversion_table = {\n",
    "        'A': 10,\n",
    "        'B': 11,\n",
    "        'C': 12,\n",
    "        'D': 13,\n",
    "        'E': 14,\n",
    "        'F': 15\n",
    "    }\n",
    "\n",
    "def conver_hex_char_to_dec_num(hex_char):\n",
    "    \n",
    "    _hex_char = hex_char.upper()\n",
    "    \n",
    "    if '0' <= _hex_char <= '9':\n",
    "        dec = int(_hex_char)\n",
    "    elif 'A' <= _hex_char <= 'F':\n",
    "        dec = conversion_table[_hex_char]\n",
    "    else:\n",
    "        raise ValueError(\"invalid hex char {0}\".format(hex_char))\n",
    "        \n",
    "    return dec\n",
    "    \n",
    "    "
   ]
  },
  {
   "cell_type": "code",
   "execution_count": 8,
   "metadata": {
    "collapsed": false
   },
   "outputs": [
    {
     "name": "stdout",
     "output_type": "stream",
     "text": [
      "255\n"
     ]
    }
   ],
   "source": [
    "def hex_to_dec(hex_str):\n",
    "    \n",
    "    result = None\n",
    "    \n",
    "    for hex_char in hex_str:\n",
    "        dec_num = conver_hex_char_to_dec_num(hex_char)\n",
    "        \n",
    "        if result is None:\n",
    "            result = dec_num\n",
    "        else:\n",
    "            result = result * 16 + dec_num\n",
    "        \n",
    "    return result\n",
    "\n",
    "print hex_to_dec('ff')"
   ]
  },
  {
   "cell_type": "code",
   "execution_count": 10,
   "metadata": {
    "collapsed": false
   },
   "outputs": [
    {
     "data": {
      "text/plain": [
       "8320025024"
      ]
     },
     "execution_count": 10,
     "metadata": {},
     "output_type": "execute_result"
    }
   ],
   "source": [
    "dir('A')\n",
    "#'A'.__hash__()"
   ]
  },
  {
   "cell_type": "code",
   "execution_count": null,
   "metadata": {
    "collapsed": true
   },
   "outputs": [],
   "source": []
  }
 ],
 "metadata": {
  "kernelspec": {
   "display_name": "Python 2",
   "language": "python",
   "name": "python2"
  },
  "language_info": {
   "codemirror_mode": {
    "name": "ipython",
    "version": 2
   },
   "file_extension": ".py",
   "mimetype": "text/x-python",
   "name": "python",
   "nbconvert_exporter": "python",
   "pygments_lexer": "ipython2",
   "version": "2.7.9"
  }
 },
 "nbformat": 4,
 "nbformat_minor": 0
}
